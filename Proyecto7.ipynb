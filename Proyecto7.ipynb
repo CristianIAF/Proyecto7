{
  "nbformat": 4,
  "nbformat_minor": 0,
  "metadata": {
    "colab": {
      "provenance": []
    },
    "kernelspec": {
      "name": "python3",
      "display_name": "Python 3"
    },
    "language_info": {
      "name": "python"
    }
  },
  "cells": [
    {
      "cell_type": "markdown",
      "source": [
        "7 - Para un estudio sobre la multiplicación de bacterias en una colonia, se recopiló el número de bacterias multiplicadas por día y se puede observar a continuación: [1.2, 2.1, 3.3, 5.0, 7.8, 11.3, 16.6, 25.1, 37.8, 56.9]. Con estos valores, crea un código que genere una lista que contenga el porcentaje de crecimiento de bacterias por día, comparando el número de bacterias en cada día con el número de bacterias del día anterior. Sugerencia: para calcular el porcentaje de crecimiento, utiliza la siguiente ecuación: 100 * (muestra_actual - muestra_anterior) / muestra_anterior."
      ],
      "metadata": {
        "id": "zP0YvEeTHt-b"
      }
    },
    {
      "cell_type": "code",
      "source": [
        "# Lista de bacterias por día\n",
        "numero_bacterias_por_dia = [1.2, 2.1, 3.3, 5.0, 7.8, 11.3, 16.6, 25.1, 37.8, 56.9]\n",
        "\n",
        "# Lista para almacenar los porcentajes de crecimiento\n",
        "porcentaje_crecimiento_por_dia = []\n",
        "\n",
        "# Calcular el porcentaje de crecimiento para cada día a partir del segundo, esto es, iterar sobre la lista de bacterias: Comenzando desde el segundo día (índice 1) hasta el final.\n",
        "for i in range(1, len(numero_bacterias_por_dia)):\n",
        "    muestra_anterior = numero_bacterias_por_dia[i - 1]\n",
        "    muestra_actual = numero_bacterias_por_dia[i]\n",
        "    porcentaje = 100 * (muestra_actual - muestra_anterior) / muestra_anterior\n",
        "    porcentaje_crecimiento_por_dia.append(porcentaje)\n",
        "\n",
        "# Mostrar los resultados\n",
        "print(porcentaje_crecimiento_por_dia)\n"
      ],
      "metadata": {
        "colab": {
          "base_uri": "https://localhost:8080/"
        },
        "id": "XQh9PtSgHycv",
        "outputId": "99c2a607-49e8-4b51-a031-14d2d1a4593d"
      },
      "execution_count": 2,
      "outputs": [
        {
          "output_type": "stream",
          "name": "stdout",
          "text": [
            "[75.00000000000001, 57.142857142857125, 51.51515151515153, 56.0, 44.87179487179489, 46.90265486725664, 51.20481927710843, 50.59760956175297, 50.52910052910054]\n"
          ]
        }
      ]
    }
  ]
}